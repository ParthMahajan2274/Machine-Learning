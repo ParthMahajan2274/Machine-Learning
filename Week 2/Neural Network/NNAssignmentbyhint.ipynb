{
 "cells": [
  {
   "cell_type": "code",
   "execution_count": 9,
   "metadata": {},
   "outputs": [],
   "source": [
    "import tensorflow as tf\n",
    "from tensorflow import keras\n",
    "from tensorflow.keras.layers import Dense,Flatten\n",
    "from tensorflow.keras import Input"
   ]
  },
  {
   "cell_type": "code",
   "execution_count": 3,
   "metadata": {},
   "outputs": [
    {
     "name": "stdout",
     "output_type": "stream",
     "text": [
      "Found 269 files belonging to 2 classes.\n"
     ]
    }
   ],
   "source": [
    "dataset = tf.keras.preprocessing.image_dataset_from_directory(\"homer_bart\",image_size=(64, 64),label_mode = \"binary\")"
   ]
  },
  {
   "cell_type": "code",
   "execution_count": 4,
   "metadata": {},
   "outputs": [],
   "source": [
    "train_data = dataset.take(8)\n",
    "test_data = dataset.skip(8)\n",
    "train_data = train_data.cache().shuffle(1000).prefetch(buffer_size=tf.data.AUTOTUNE)\n",
    "test_data = test_data.cache().shuffle(1000).prefetch(buffer_size=tf.data.AUTOTUNE)"
   ]
  },
  {
   "cell_type": "code",
   "execution_count": 5,
   "metadata": {},
   "outputs": [],
   "source": [
    "preprocess = tf.keras.Sequential(\n",
    "    [tf.keras.layers.Rescaling(1/255.0)] # rescaling factor\n",
    ")\n",
    "model = tf.keras.Sequential()\n",
    "model.add(Input((64,64,3)))\n",
    "model.add(Flatten())\n",
    "model.add(preprocess)\n",
    "model.add(Dense(256, activation='relu'))\n",
    "model.add(Dense(128, activation='relu'))\n",
    "model.add(Dense(128, activation='relu'))\n",
    "model.add(Dense(1, activation='sigmoid'))"
   ]
  },
  {
   "cell_type": "code",
   "execution_count": 11,
   "metadata": {},
   "outputs": [],
   "source": [
    "model.compile(optimizer = keras.optimizers.Adam(learning_rate = 0.001),\n",
    "              loss = tf.keras.losses.binary_crossentropy, # use tf.keras.losses._______(from_logits = False)  \n",
    "              metrics = ['accuracy'])"
   ]
  },
  {
   "cell_type": "code",
   "execution_count": 12,
   "metadata": {},
   "outputs": [
    {
     "name": "stdout",
     "output_type": "stream",
     "text": [
      "Epoch 1/22\n",
      "8/8 - 4s - 468ms/step - accuracy: 0.5430 - loss: 2.2008 - val_accuracy: 0.4615 - val_loss: 2.5085\n",
      "Epoch 2/22\n",
      "8/8 - 0s - 36ms/step - accuracy: 0.6055 - loss: 1.0862 - val_accuracy: 0.5385 - val_loss: 0.8152\n",
      "Epoch 3/22\n",
      "8/8 - 0s - 36ms/step - accuracy: 0.5234 - loss: 0.8715 - val_accuracy: 0.4615 - val_loss: 1.1040\n",
      "Epoch 4/22\n",
      "8/8 - 0s - 34ms/step - accuracy: 0.6016 - loss: 0.8555 - val_accuracy: 0.6154 - val_loss: 0.6371\n",
      "Epoch 5/22\n",
      "8/8 - 0s - 33ms/step - accuracy: 0.6172 - loss: 0.7577 - val_accuracy: 0.7692 - val_loss: 0.4579\n",
      "Epoch 6/22\n",
      "8/8 - 0s - 34ms/step - accuracy: 0.6836 - loss: 0.5772 - val_accuracy: 0.9231 - val_loss: 0.3356\n",
      "Epoch 7/22\n",
      "8/8 - 0s - 35ms/step - accuracy: 0.7930 - loss: 0.4548 - val_accuracy: 0.8462 - val_loss: 0.3096\n",
      "Epoch 8/22\n",
      "8/8 - 0s - 33ms/step - accuracy: 0.7734 - loss: 0.4510 - val_accuracy: 0.8462 - val_loss: 0.2517\n",
      "Epoch 9/22\n",
      "8/8 - 0s - 34ms/step - accuracy: 0.8086 - loss: 0.4074 - val_accuracy: 1.0000 - val_loss: 0.2182\n",
      "Epoch 10/22\n",
      "8/8 - 0s - 34ms/step - accuracy: 0.7734 - loss: 0.4727 - val_accuracy: 0.8462 - val_loss: 0.3563\n",
      "Epoch 11/22\n",
      "8/8 - 0s - 34ms/step - accuracy: 0.7695 - loss: 0.4683 - val_accuracy: 0.7692 - val_loss: 0.4045\n",
      "Epoch 12/22\n",
      "8/8 - 0s - 35ms/step - accuracy: 0.7578 - loss: 0.4984 - val_accuracy: 0.9231 - val_loss: 0.2568\n",
      "Epoch 13/22\n",
      "8/8 - 0s - 33ms/step - accuracy: 0.7617 - loss: 0.4812 - val_accuracy: 0.8462 - val_loss: 0.3083\n",
      "Epoch 14/22\n",
      "8/8 - 0s - 35ms/step - accuracy: 0.7852 - loss: 0.4260 - val_accuracy: 0.9231 - val_loss: 0.1687\n",
      "Epoch 15/22\n",
      "8/8 - 0s - 35ms/step - accuracy: 0.8320 - loss: 0.3703 - val_accuracy: 1.0000 - val_loss: 0.1544\n",
      "Epoch 16/22\n",
      "8/8 - 0s - 35ms/step - accuracy: 0.8672 - loss: 0.3254 - val_accuracy: 1.0000 - val_loss: 0.1186\n",
      "Epoch 17/22\n",
      "8/8 - 0s - 34ms/step - accuracy: 0.8711 - loss: 0.3026 - val_accuracy: 0.8462 - val_loss: 0.2855\n",
      "Epoch 18/22\n",
      "8/8 - 0s - 33ms/step - accuracy: 0.8438 - loss: 0.3365 - val_accuracy: 0.8462 - val_loss: 0.2479\n",
      "Epoch 19/22\n",
      "8/8 - 0s - 33ms/step - accuracy: 0.8555 - loss: 0.3181 - val_accuracy: 1.0000 - val_loss: 0.0901\n",
      "Epoch 20/22\n",
      "8/8 - 0s - 32ms/step - accuracy: 0.8945 - loss: 0.2408 - val_accuracy: 1.0000 - val_loss: 0.0809\n",
      "Epoch 21/22\n",
      "8/8 - 0s - 33ms/step - accuracy: 0.9336 - loss: 0.2010 - val_accuracy: 1.0000 - val_loss: 0.0839\n",
      "Epoch 22/22\n",
      "8/8 - 0s - 35ms/step - accuracy: 0.9219 - loss: 0.2123 - val_accuracy: 1.0000 - val_loss: 0.0684\n"
     ]
    },
    {
     "data": {
      "text/plain": [
       "<keras.src.callbacks.history.History at 0x1c866a6f080>"
      ]
     },
     "execution_count": 12,
     "metadata": {},
     "output_type": "execute_result"
    }
   ],
   "source": [
    "model.fit(train_data,\n",
    "          epochs = 22,\n",
    "          batch_size = 32,\n",
    "          verbose=2,\n",
    "          validation_data = test_data)"
   ]
  },
  {
   "cell_type": "code",
   "execution_count": 14,
   "metadata": {},
   "outputs": [
    {
     "name": "stdout",
     "output_type": "stream",
     "text": [
      "1/1 - 0s - 9ms/step - accuracy: 1.0000 - loss: 0.0684\n"
     ]
    },
    {
     "data": {
      "text/plain": [
       "[0.06837586313486099, 1.0]"
      ]
     },
     "execution_count": 14,
     "metadata": {},
     "output_type": "execute_result"
    }
   ],
   "source": [
    "model.evaluate(test_data,batch_size=32,verbose=2)"
   ]
  },
  {
   "cell_type": "code",
   "execution_count": null,
   "metadata": {},
   "outputs": [],
   "source": []
  }
 ],
 "metadata": {
  "kernelspec": {
   "display_name": "neuralnet",
   "language": "python",
   "name": "python3"
  },
  "language_info": {
   "codemirror_mode": {
    "name": "ipython",
    "version": 3
   },
   "file_extension": ".py",
   "mimetype": "text/x-python",
   "name": "python",
   "nbconvert_exporter": "python",
   "pygments_lexer": "ipython3",
   "version": "3.12.4"
  }
 },
 "nbformat": 4,
 "nbformat_minor": 2
}
