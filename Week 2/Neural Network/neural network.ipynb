{
 "cells": [
  {
   "cell_type": "code",
   "execution_count": 4,
   "metadata": {},
   "outputs": [
    {
     "name": "stdout",
     "output_type": "stream",
     "text": [
      "Found 242 images belonging to 2 classes.\n"
     ]
    },
    {
     "name": "stdout",
     "output_type": "stream",
     "text": [
      "Found 27 images belonging to 2 classes.\n"
     ]
    }
   ],
   "source": [
    "import tensorflow as tf\n",
    "from tensorflow import keras \n",
    "from tensorflow.keras import layers\n",
    "from tensorflow.keras.preprocessing.image import ImageDataGenerator\n",
    "from tensorflow.keras import regularizers\n",
    "import numpy as np\n",
    "from sklearn.model_selection import train_test_split\n",
    "\n",
    "train_dataset=ImageDataGenerator(rescale= 1/255)\n",
    "test_dataset=ImageDataGenerator(rescale= 1/255)\n",
    "\n",
    "\n",
    "train_dataset= train_dataset.flow_from_directory(\n",
    "    \"./dataset/train\",\n",
    "    target_size=(64,64),\n",
    "    batch_size=32,\n",
    "    class_mode='binary',\n",
    "    shuffle=True,\n",
    ")\n",
    "test_dataset= test_dataset.flow_from_directory(\n",
    "    \"./dataset/test\",\n",
    "    target_size=(64,64),\n",
    "    batch_size=32,\n",
    "    class_mode='binary',\n",
    ")\n",
    "\n",
    "model = tf.keras.models.Sequential([\n",
    "                                    tf.keras.layers.Flatten(),\n",
    "                                    tf.keras.layers.Dense(128,input_shape=(64,64,3),activation='relu'),\n",
    "                                    tf.keras.layers.Dense(128,activation='relu'),\n",
    "                                    tf.keras.layers.Dense(1,activation='sigmoid'),\n",
    "])\n",
    "\n",
    "model.compile(loss='binary_crossentropy',\n",
    "              optimizer = keras.optimizers.Adam(learning_rate=0.00085),\n",
    "              metrics=[\"accuracy\"])"
   ]
  },
  {
   "cell_type": "code",
   "execution_count": 5,
   "metadata": {},
   "outputs": [
    {
     "name": "stdout",
     "output_type": "stream",
     "text": [
      "Epoch 1/34\n",
      "8/8 - 3s - 347ms/step - accuracy: 0.5496 - loss: 1.8944\n",
      "Epoch 2/34\n",
      "8/8 - 0s - 61ms/step - accuracy: 0.5620 - loss: 0.9253\n",
      "Epoch 3/34\n",
      "8/8 - 0s - 57ms/step - accuracy: 0.5868 - loss: 0.6693\n",
      "Epoch 4/34\n",
      "8/8 - 0s - 57ms/step - accuracy: 0.6198 - loss: 0.6301\n",
      "Epoch 5/34\n",
      "8/8 - 0s - 54ms/step - accuracy: 0.7066 - loss: 0.5440\n",
      "Epoch 6/34\n",
      "8/8 - 0s - 60ms/step - accuracy: 0.7893 - loss: 0.4917\n",
      "Epoch 7/34\n",
      "8/8 - 0s - 62ms/step - accuracy: 0.8017 - loss: 0.4749\n",
      "Epoch 8/34\n",
      "8/8 - 0s - 57ms/step - accuracy: 0.8264 - loss: 0.4138\n",
      "Epoch 9/34\n",
      "8/8 - 0s - 61ms/step - accuracy: 0.8347 - loss: 0.4014\n",
      "Epoch 10/34\n",
      "8/8 - 1s - 67ms/step - accuracy: 0.8264 - loss: 0.4091\n",
      "Epoch 11/34\n",
      "8/8 - 0s - 60ms/step - accuracy: 0.8347 - loss: 0.3847\n",
      "Epoch 12/34\n",
      "8/8 - 0s - 47ms/step - accuracy: 0.7769 - loss: 0.4739\n",
      "Epoch 13/34\n",
      "8/8 - 0s - 46ms/step - accuracy: 0.8512 - loss: 0.3095\n",
      "Epoch 14/34\n",
      "8/8 - 0s - 47ms/step - accuracy: 0.8926 - loss: 0.2948\n",
      "Epoch 15/34\n",
      "8/8 - 0s - 50ms/step - accuracy: 0.8926 - loss: 0.2811\n",
      "Epoch 16/34\n",
      "8/8 - 0s - 51ms/step - accuracy: 0.8843 - loss: 0.2895\n",
      "Epoch 17/34\n",
      "8/8 - 0s - 49ms/step - accuracy: 0.7893 - loss: 0.3750\n",
      "Epoch 18/34\n",
      "8/8 - 0s - 43ms/step - accuracy: 0.8760 - loss: 0.2843\n",
      "Epoch 19/34\n",
      "8/8 - 0s - 41ms/step - accuracy: 0.9380 - loss: 0.2107\n",
      "Epoch 20/34\n",
      "8/8 - 0s - 41ms/step - accuracy: 0.9504 - loss: 0.1844\n",
      "Epoch 21/34\n",
      "8/8 - 0s - 40ms/step - accuracy: 0.9711 - loss: 0.1580\n",
      "Epoch 22/34\n",
      "8/8 - 0s - 46ms/step - accuracy: 0.9752 - loss: 0.1435\n",
      "Epoch 23/34\n",
      "8/8 - 0s - 51ms/step - accuracy: 0.9876 - loss: 0.1414\n",
      "Epoch 24/34\n",
      "8/8 - 0s - 47ms/step - accuracy: 0.9669 - loss: 0.1256\n",
      "Epoch 25/34\n",
      "8/8 - 0s - 43ms/step - accuracy: 0.9793 - loss: 0.1178\n",
      "Epoch 26/34\n",
      "8/8 - 0s - 38ms/step - accuracy: 0.9835 - loss: 0.1096\n",
      "Epoch 27/34\n",
      "8/8 - 0s - 49ms/step - accuracy: 0.9835 - loss: 0.0971\n",
      "Epoch 28/34\n",
      "8/8 - 0s - 57ms/step - accuracy: 0.9835 - loss: 0.1104\n",
      "Epoch 29/34\n",
      "8/8 - 0s - 42ms/step - accuracy: 0.9752 - loss: 0.0849\n",
      "Epoch 30/34\n",
      "8/8 - 0s - 44ms/step - accuracy: 0.9752 - loss: 0.1003\n",
      "Epoch 31/34\n",
      "8/8 - 0s - 53ms/step - accuracy: 0.9959 - loss: 0.0684\n",
      "Epoch 32/34\n",
      "8/8 - 0s - 49ms/step - accuracy: 0.9959 - loss: 0.0562\n",
      "Epoch 33/34\n",
      "8/8 - 0s - 45ms/step - accuracy: 1.0000 - loss: 0.0400\n",
      "Epoch 34/34\n",
      "8/8 - 0s - 47ms/step - accuracy: 1.0000 - loss: 0.0405\n",
      "1/1 - 0s - 147ms/step - accuracy: 0.7407 - loss: 0.5836\n"
     ]
    },
    {
     "data": {
      "text/plain": [
       "[0.5836455225944519, 0.7407407164573669]"
      ]
     },
     "execution_count": 5,
     "metadata": {},
     "output_type": "execute_result"
    }
   ],
   "source": [
    "model.fit(train_dataset,batch_size=32, epochs=34,shuffle=True,verbose =2)\n",
    "model.evaluate(test_dataset,batch_size=32,verbose=2)"
   ]
  },
  {
   "cell_type": "code",
   "execution_count": 6,
   "metadata": {},
   "outputs": [],
   "source": [
    "# test_dataset=tf.keras.utils.image_dataset_from_directory('dataset/test')\n",
    "# test_dataset=ImageDataGenerator(rescale= 1/255)"
   ]
  },
  {
   "cell_type": "code",
   "execution_count": 7,
   "metadata": {},
   "outputs": [
    {
     "name": "stdout",
     "output_type": "stream",
     "text": [
      "1/1 - 0s - 101ms/step - accuracy: 0.7407 - loss: 0.5836\n"
     ]
    },
    {
     "data": {
      "text/plain": [
       "[0.5836455225944519, 0.7407407164573669]"
      ]
     },
     "execution_count": 7,
     "metadata": {},
     "output_type": "execute_result"
    }
   ],
   "source": [
    "# train_dataset,test_dataset= train_dataset.flow_from_directory(\n",
    "#     \"./dataset/train\"\"./dataset/test\",\n",
    "#     target_size=(64,64),\n",
    "#     batch_size=32,\n",
    "#     class_mode='binary',\n",
    "# )\n",
    "model.evaluate(test_dataset,batch_size=32,verbose=2)"
   ]
  },
  {
   "cell_type": "code",
   "execution_count": 8,
   "metadata": {},
   "outputs": [],
   "source": [
    "# import splitfolders as sf\n",
    "# sf.ratio('homer_bart','dataset',seed=42,ratio=(0.9,0,0.1),group_prefix=None)"
   ]
  },
  {
   "cell_type": "code",
   "execution_count": null,
   "metadata": {},
   "outputs": [],
   "source": []
  },
  {
   "cell_type": "code",
   "execution_count": null,
   "metadata": {},
   "outputs": [],
   "source": []
  },
  {
   "cell_type": "code",
   "execution_count": null,
   "metadata": {},
   "outputs": [],
   "source": []
  }
 ],
 "metadata": {
  "kernelspec": {
   "display_name": "neuralnet",
   "language": "python",
   "name": "python3"
  },
  "language_info": {
   "codemirror_mode": {
    "name": "ipython",
    "version": 3
   },
   "file_extension": ".py",
   "mimetype": "text/x-python",
   "name": "python",
   "nbconvert_exporter": "python",
   "pygments_lexer": "ipython3",
   "version": "3.12.4"
  }
 },
 "nbformat": 4,
 "nbformat_minor": 2
}
