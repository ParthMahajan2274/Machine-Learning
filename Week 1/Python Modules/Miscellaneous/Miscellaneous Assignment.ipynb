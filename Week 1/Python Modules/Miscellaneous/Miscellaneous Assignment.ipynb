{
 "cells": [
  {
   "cell_type": "markdown",
   "id": "b5be7308-5ea0-4276-ad69-737a8e213cb0",
   "metadata": {},
   "source": [
    "# Miscellaneous"
   ]
  },
  {
   "cell_type": "code",
   "execution_count": 44,
   "id": "80a9bc89-797f-4e0c-bc87-bfffb64a79db",
   "metadata": {},
   "outputs": [
    {
     "name": "stdout",
     "output_type": "stream",
     "text": [
      "Array of 4 random numbers from arr1 is [31 25 81  1]\n",
      "sum is 138\n"
     ]
    }
   ],
   "source": [
    "import random\n",
    "import numpy as np\n",
    "random.seed(20)\n",
    "arr1=np.array([1,24,31,45,73,81,94,25])\n",
    "arr2=np.full((4,),arr1[random.sample(range(0,len(arr1)),4)])\n",
    "print(f\"Array of 4 random numbers from arr1 is {arr2}\")\n",
    "print(f\"sum is {int(arr2.sum())}\")"
   ]
  },
  {
   "cell_type": "code",
   "execution_count": null,
   "id": "4c355a47-f168-47c5-919f-1371b3381a79",
   "metadata": {},
   "outputs": [],
   "source": []
  }
 ],
 "metadata": {
  "kernelspec": {
   "display_name": "Python 3 (ipykernel)",
   "language": "python",
   "name": "python3"
  },
  "language_info": {
   "codemirror_mode": {
    "name": "ipython",
    "version": 3
   },
   "file_extension": ".py",
   "mimetype": "text/x-python",
   "name": "python",
   "nbconvert_exporter": "python",
   "pygments_lexer": "ipython3",
   "version": "3.12.4"
  }
 },
 "nbformat": 4,
 "nbformat_minor": 5
}
